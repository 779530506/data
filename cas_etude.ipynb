{
 "cells": [
  {
   "cell_type": "code",
   "execution_count": null,
   "metadata": {
    "id": "V_W0jB0OywQq"
   },
   "outputs": [],
   "source": [
    "import os\n",
    "from google.colab import drive #connexion à votre driver\n",
    "drive.mount('/content/drive')"
   ]
  },
  {
   "cell_type": "code",
   "execution_count": null,
   "metadata": {
    "colab": {
     "base_uri": "https://localhost:8080/"
    },
    "id": "7jlCO_8ly1gJ",
    "outputId": "a5099e78-abab-4fec-ee97-bd0b6a42eba9"
   },
   "outputs": [
    {
     "name": "stdout",
     "output_type": "stream",
     "text": [
      "archive.zip  Data_SoucheO7O3.xls\n"
     ]
    }
   ],
   "source": [
    "%ls /content/drive/MyDrive/data_uvs/"
   ]
  },
  {
   "cell_type": "markdown",
   "metadata": {
    "id": "uIvAC7NY25Jv"
   },
   "source": [
    "## Importation des **librairies**"
   ]
  },
  {
   "cell_type": "code",
   "execution_count": null,
   "metadata": {
    "id": "zOeunaUbztHU"
   },
   "outputs": [],
   "source": [
    "import pandas as pd\n",
    "from sklearn.model_selection import train_test_split \n",
    "import seaborn  as sns\n",
    "import matplotlib.pyplot as plt\n"
   ]
  },
  {
   "cell_type": "markdown",
   "metadata": {
    "id": "wyVhN9ke3Au_"
   },
   "source": [
    "# Chargement de notre base de données"
   ]
  },
  {
   "cell_type": "code",
   "execution_count": null,
   "metadata": {
    "colab": {
     "base_uri": "https://localhost:8080/",
     "height": 270
    },
    "id": "Iro-Dlcqzxvk",
    "outputId": "46fca261-873a-44dd-ab67-6a492902ffcf"
   },
   "outputs": [
    {
     "data": {
      "text/html": [
       "\n",
       "  <div id=\"df-fbb76f6b-84da-4187-ac7d-262dc1e08a18\">\n",
       "    <div class=\"colab-df-container\">\n",
       "      <div>\n",
       "<style scoped>\n",
       "    .dataframe tbody tr th:only-of-type {\n",
       "        vertical-align: middle;\n",
       "    }\n",
       "\n",
       "    .dataframe tbody tr th {\n",
       "        vertical-align: top;\n",
       "    }\n",
       "\n",
       "    .dataframe thead th {\n",
       "        text-align: right;\n",
       "    }\n",
       "</style>\n",
       "<table border=\"1\" class=\"dataframe\">\n",
       "  <thead>\n",
       "    <tr style=\"text-align: right;\">\n",
       "      <th></th>\n",
       "      <th>Sexe</th>\n",
       "      <th>Age</th>\n",
       "      <th>ratio</th>\n",
       "      <th>ID</th>\n",
       "      <th>Type_Hb</th>\n",
       "      <th>G6PD</th>\n",
       "      <th>Gpe_ABO</th>\n",
       "      <th>Rhesus</th>\n",
       "      <th>EP_6M_AVT</th>\n",
       "      <th>AcPf_6M_AVT</th>\n",
       "      <th>EP_1AN_AVT</th>\n",
       "      <th>AcPf_1AN_AVT</th>\n",
       "      <th>EP_6M_APR</th>\n",
       "      <th>AcPf_6M_APR</th>\n",
       "      <th>EP_1AN_APR</th>\n",
       "      <th>AcPf_1AN_APR</th>\n",
       "    </tr>\n",
       "  </thead>\n",
       "  <tbody>\n",
       "    <tr>\n",
       "      <th>0</th>\n",
       "      <td>Mas</td>\n",
       "      <td>29.2</td>\n",
       "      <td>6.74</td>\n",
       "      <td>35/01</td>\n",
       "      <td>AA</td>\n",
       "      <td>12.0</td>\n",
       "      <td>O</td>\n",
       "      <td>+</td>\n",
       "      <td>1</td>\n",
       "      <td>0</td>\n",
       "      <td>1</td>\n",
       "      <td>0</td>\n",
       "      <td>5</td>\n",
       "      <td>0</td>\n",
       "      <td>6</td>\n",
       "      <td>1</td>\n",
       "    </tr>\n",
       "    <tr>\n",
       "      <th>1</th>\n",
       "      <td>Mas</td>\n",
       "      <td>28.0</td>\n",
       "      <td>4.56</td>\n",
       "      <td>35/02</td>\n",
       "      <td>AA</td>\n",
       "      <td>8.8</td>\n",
       "      <td>O</td>\n",
       "      <td>+</td>\n",
       "      <td>0</td>\n",
       "      <td>0</td>\n",
       "      <td>0</td>\n",
       "      <td>0</td>\n",
       "      <td>4</td>\n",
       "      <td>0</td>\n",
       "      <td>8</td>\n",
       "      <td>1</td>\n",
       "    </tr>\n",
       "    <tr>\n",
       "      <th>2</th>\n",
       "      <td>Mas</td>\n",
       "      <td>8.3</td>\n",
       "      <td>6.94</td>\n",
       "      <td>35/03</td>\n",
       "      <td>AA</td>\n",
       "      <td>1.0</td>\n",
       "      <td>B</td>\n",
       "      <td>+</td>\n",
       "      <td>0</td>\n",
       "      <td>0</td>\n",
       "      <td>0</td>\n",
       "      <td>0</td>\n",
       "      <td>6</td>\n",
       "      <td>0</td>\n",
       "      <td>8</td>\n",
       "      <td>5</td>\n",
       "    </tr>\n",
       "    <tr>\n",
       "      <th>3</th>\n",
       "      <td>Mas</td>\n",
       "      <td>28.7</td>\n",
       "      <td>1.87</td>\n",
       "      <td>35/06</td>\n",
       "      <td>AA</td>\n",
       "      <td>10.1</td>\n",
       "      <td>A</td>\n",
       "      <td>+</td>\n",
       "      <td>0</td>\n",
       "      <td>0</td>\n",
       "      <td>0</td>\n",
       "      <td>0</td>\n",
       "      <td>0</td>\n",
       "      <td>0</td>\n",
       "      <td>2</td>\n",
       "      <td>1</td>\n",
       "    </tr>\n",
       "    <tr>\n",
       "      <th>4</th>\n",
       "      <td>Mas</td>\n",
       "      <td>19.8</td>\n",
       "      <td>5.52</td>\n",
       "      <td>16/40</td>\n",
       "      <td>AA</td>\n",
       "      <td>7.4</td>\n",
       "      <td>A</td>\n",
       "      <td>+</td>\n",
       "      <td>0</td>\n",
       "      <td>0</td>\n",
       "      <td>0</td>\n",
       "      <td>0</td>\n",
       "      <td>0</td>\n",
       "      <td>0</td>\n",
       "      <td>0</td>\n",
       "      <td>0</td>\n",
       "    </tr>\n",
       "  </tbody>\n",
       "</table>\n",
       "</div>\n",
       "      <button class=\"colab-df-convert\" onclick=\"convertToInteractive('df-fbb76f6b-84da-4187-ac7d-262dc1e08a18')\"\n",
       "              title=\"Convert this dataframe to an interactive table.\"\n",
       "              style=\"display:none;\">\n",
       "        \n",
       "  <svg xmlns=\"http://www.w3.org/2000/svg\" height=\"24px\"viewBox=\"0 0 24 24\"\n",
       "       width=\"24px\">\n",
       "    <path d=\"M0 0h24v24H0V0z\" fill=\"none\"/>\n",
       "    <path d=\"M18.56 5.44l.94 2.06.94-2.06 2.06-.94-2.06-.94-.94-2.06-.94 2.06-2.06.94zm-11 1L8.5 8.5l.94-2.06 2.06-.94-2.06-.94L8.5 2.5l-.94 2.06-2.06.94zm10 10l.94 2.06.94-2.06 2.06-.94-2.06-.94-.94-2.06-.94 2.06-2.06.94z\"/><path d=\"M17.41 7.96l-1.37-1.37c-.4-.4-.92-.59-1.43-.59-.52 0-1.04.2-1.43.59L10.3 9.45l-7.72 7.72c-.78.78-.78 2.05 0 2.83L4 21.41c.39.39.9.59 1.41.59.51 0 1.02-.2 1.41-.59l7.78-7.78 2.81-2.81c.8-.78.8-2.07 0-2.86zM5.41 20L4 18.59l7.72-7.72 1.47 1.35L5.41 20z\"/>\n",
       "  </svg>\n",
       "      </button>\n",
       "      \n",
       "  <style>\n",
       "    .colab-df-container {\n",
       "      display:flex;\n",
       "      flex-wrap:wrap;\n",
       "      gap: 12px;\n",
       "    }\n",
       "\n",
       "    .colab-df-convert {\n",
       "      background-color: #E8F0FE;\n",
       "      border: none;\n",
       "      border-radius: 50%;\n",
       "      cursor: pointer;\n",
       "      display: none;\n",
       "      fill: #1967D2;\n",
       "      height: 32px;\n",
       "      padding: 0 0 0 0;\n",
       "      width: 32px;\n",
       "    }\n",
       "\n",
       "    .colab-df-convert:hover {\n",
       "      background-color: #E2EBFA;\n",
       "      box-shadow: 0px 1px 2px rgba(60, 64, 67, 0.3), 0px 1px 3px 1px rgba(60, 64, 67, 0.15);\n",
       "      fill: #174EA6;\n",
       "    }\n",
       "\n",
       "    [theme=dark] .colab-df-convert {\n",
       "      background-color: #3B4455;\n",
       "      fill: #D2E3FC;\n",
       "    }\n",
       "\n",
       "    [theme=dark] .colab-df-convert:hover {\n",
       "      background-color: #434B5C;\n",
       "      box-shadow: 0px 1px 3px 1px rgba(0, 0, 0, 0.15);\n",
       "      filter: drop-shadow(0px 1px 2px rgba(0, 0, 0, 0.3));\n",
       "      fill: #FFFFFF;\n",
       "    }\n",
       "  </style>\n",
       "\n",
       "      <script>\n",
       "        const buttonEl =\n",
       "          document.querySelector('#df-fbb76f6b-84da-4187-ac7d-262dc1e08a18 button.colab-df-convert');\n",
       "        buttonEl.style.display =\n",
       "          google.colab.kernel.accessAllowed ? 'block' : 'none';\n",
       "\n",
       "        async function convertToInteractive(key) {\n",
       "          const element = document.querySelector('#df-fbb76f6b-84da-4187-ac7d-262dc1e08a18');\n",
       "          const dataTable =\n",
       "            await google.colab.kernel.invokeFunction('convertToInteractive',\n",
       "                                                     [key], {});\n",
       "          if (!dataTable) return;\n",
       "\n",
       "          const docLinkHtml = 'Like what you see? Visit the ' +\n",
       "            '<a target=\"_blank\" href=https://colab.research.google.com/notebooks/data_table.ipynb>data table notebook</a>'\n",
       "            + ' to learn more about interactive tables.';\n",
       "          element.innerHTML = '';\n",
       "          dataTable['output_type'] = 'display_data';\n",
       "          await google.colab.output.renderOutput(dataTable, element);\n",
       "          const docLink = document.createElement('div');\n",
       "          docLink.innerHTML = docLinkHtml;\n",
       "          element.appendChild(docLink);\n",
       "        }\n",
       "      </script>\n",
       "    </div>\n",
       "  </div>\n",
       "  "
      ],
      "text/plain": [
       "  Sexe   Age  ratio     ID Type_Hb  G6PD Gpe_ABO Rhesus  EP_6M_AVT  \\\n",
       "0  Mas  29.2   6.74  35/01      AA  12.0       O      +          1   \n",
       "1  Mas  28.0   4.56  35/02      AA   8.8       O      +          0   \n",
       "2  Mas   8.3   6.94  35/03      AA   1.0       B      +          0   \n",
       "3  Mas  28.7   1.87  35/06      AA  10.1       A      +          0   \n",
       "4  Mas  19.8   5.52  16/40      AA   7.4       A      +          0   \n",
       "\n",
       "   AcPf_6M_AVT  EP_1AN_AVT  AcPf_1AN_AVT  EP_6M_APR  AcPf_6M_APR  EP_1AN_APR  \\\n",
       "0            0           1             0          5            0           6   \n",
       "1            0           0             0          4            0           8   \n",
       "2            0           0             0          6            0           8   \n",
       "3            0           0             0          0            0           2   \n",
       "4            0           0             0          0            0           0   \n",
       "\n",
       "   AcPf_1AN_APR  \n",
       "0             1  \n",
       "1             1  \n",
       "2             5  \n",
       "3             1  \n",
       "4             0  "
      ]
     },
     "execution_count": 94,
     "metadata": {},
     "output_type": "execute_result"
    }
   ],
   "source": [
    "df = pd.read_excel(\"/content/drive/MyDrive/data_uvs/Data_SoucheO7O3.xls\")\n",
    "df.head()"
   ]
  },
  {
   "cell_type": "code",
   "execution_count": null,
   "metadata": {
    "colab": {
     "base_uri": "https://localhost:8080/"
    },
    "id": "xF-WAFHVHG6D",
    "outputId": "a52a3a6a-04ad-4273-b78a-e9679e34218d"
   },
   "outputs": [
    {
     "data": {
      "text/plain": [
       "(1235, 16)"
      ]
     },
     "execution_count": 95,
     "metadata": {},
     "output_type": "execute_result"
    }
   ],
   "source": [
    "df.shape"
   ]
  },
  {
   "cell_type": "markdown",
   "metadata": {
    "id": "_ZZQKD073WMM"
   },
   "source": [
    "## Vérification des valeurs manquantes"
   ]
  },
  {
   "cell_type": "code",
   "execution_count": null,
   "metadata": {
    "colab": {
     "base_uri": "https://localhost:8080/"
    },
    "id": "piPREyBL0MrC",
    "outputId": "e0d42254-298a-4381-9528-316c4011261a"
   },
   "outputs": [
    {
     "data": {
      "text/plain": [
       "Sexe            0.000000\n",
       "Age             0.000000\n",
       "ratio           0.000000\n",
       "ID              0.000000\n",
       "Type_Hb         0.022672\n",
       "G6PD            0.000000\n",
       "Gpe_ABO         0.022672\n",
       "Rhesus          0.022672\n",
       "EP_6M_AVT       0.000000\n",
       "AcPf_6M_AVT     0.000000\n",
       "EP_1AN_AVT      0.000000\n",
       "AcPf_1AN_AVT    0.000000\n",
       "EP_6M_APR       0.000000\n",
       "AcPf_6M_APR     0.000000\n",
       "EP_1AN_APR      0.000000\n",
       "AcPf_1AN_APR    0.000000\n",
       "dtype: float64"
      ]
     },
     "execution_count": 96,
     "metadata": {},
     "output_type": "execute_result"
    }
   ],
   "source": [
    "df.isnull().sum()/df.shape[0]"
   ]
  },
  {
   "cell_type": "code",
   "execution_count": null,
   "metadata": {
    "colab": {
     "base_uri": "https://localhost:8080/"
    },
    "id": "6wKh1BWjG75B",
    "outputId": "eae07456-b9aa-423c-9303-be1dce6b2236"
   },
   "outputs": [
    {
     "data": {
      "text/plain": [
       "(1203, 16)"
      ]
     },
     "execution_count": 97,
     "metadata": {},
     "output_type": "execute_result"
    }
   ],
   "source": [
    "df.dropna(axis=0,inplace=True)\n",
    "df.shape"
   ]
  },
  {
   "cell_type": "markdown",
   "metadata": {
    "id": "GoRRmytvHyCB"
   },
   "source": [
    "Vu que le nombre de valeur null est trés faible qui sont enrégistré sur 32 ligne sur 1235, on décide de supprimer les ligne contenant ces valeur pour avoir une base propre"
   ]
  },
  {
   "cell_type": "code",
   "execution_count": null,
   "metadata": {
    "colab": {
     "base_uri": "https://localhost:8080/"
    },
    "id": "SLn_ne8lHhCN",
    "outputId": "4eb95660-0744-4458-fefd-7127ef08b955"
   },
   "outputs": [
    {
     "data": {
      "text/plain": [
       "Sexe            0.0\n",
       "Age             0.0\n",
       "ratio           0.0\n",
       "ID              0.0\n",
       "Type_Hb         0.0\n",
       "G6PD            0.0\n",
       "Gpe_ABO         0.0\n",
       "Rhesus          0.0\n",
       "EP_6M_AVT       0.0\n",
       "AcPf_6M_AVT     0.0\n",
       "EP_1AN_AVT      0.0\n",
       "AcPf_1AN_AVT    0.0\n",
       "EP_6M_APR       0.0\n",
       "AcPf_6M_APR     0.0\n",
       "EP_1AN_APR      0.0\n",
       "AcPf_1AN_APR    0.0\n",
       "dtype: float64"
      ]
     },
     "execution_count": 98,
     "metadata": {},
     "output_type": "execute_result"
    }
   ],
   "source": [
    "df.isnull().sum()/df.shape[0]"
   ]
  },
  {
   "cell_type": "code",
   "execution_count": null,
   "metadata": {
    "id": "932iEOdPIoNt"
   },
   "outputs": [],
   "source": [
    "## création d'une colonne status basé sur le ratio qui prend 1 si le ratio >= 2 sinon 0\n",
    "## cette classe represente notre variable cible\n",
    "df[\"status\"] = [0 if status < 2 else 1 for status in df[\"ratio\"]]\n"
   ]
  },
  {
   "cell_type": "markdown",
   "metadata": {
    "id": "DCEyIwON3kNZ"
   },
   "source": [
    "# Etude descriptive"
   ]
  },
  {
   "cell_type": "code",
   "execution_count": null,
   "metadata": {
    "colab": {
     "base_uri": "https://localhost:8080/",
     "height": 364
    },
    "id": "XxRE5IgzL74T",
    "outputId": "c6b75a72-336f-423c-bed9-a4ca6d092e16"
   },
   "outputs": [
    {
     "data": {
      "text/html": [
       "\n",
       "  <div id=\"df-06edf579-9276-4102-b738-cc3e72174f7a\">\n",
       "    <div class=\"colab-df-container\">\n",
       "      <div>\n",
       "<style scoped>\n",
       "    .dataframe tbody tr th:only-of-type {\n",
       "        vertical-align: middle;\n",
       "    }\n",
       "\n",
       "    .dataframe tbody tr th {\n",
       "        vertical-align: top;\n",
       "    }\n",
       "\n",
       "    .dataframe thead th {\n",
       "        text-align: right;\n",
       "    }\n",
       "</style>\n",
       "<table border=\"1\" class=\"dataframe\">\n",
       "  <thead>\n",
       "    <tr style=\"text-align: right;\">\n",
       "      <th></th>\n",
       "      <th>Age</th>\n",
       "      <th>ratio</th>\n",
       "      <th>G6PD</th>\n",
       "      <th>EP_6M_AVT</th>\n",
       "      <th>AcPf_6M_AVT</th>\n",
       "      <th>EP_1AN_AVT</th>\n",
       "      <th>AcPf_1AN_AVT</th>\n",
       "      <th>EP_6M_APR</th>\n",
       "      <th>AcPf_6M_APR</th>\n",
       "      <th>EP_1AN_APR</th>\n",
       "      <th>AcPf_1AN_APR</th>\n",
       "      <th>status</th>\n",
       "    </tr>\n",
       "  </thead>\n",
       "  <tbody>\n",
       "    <tr>\n",
       "      <th>count</th>\n",
       "      <td>1203.000000</td>\n",
       "      <td>1203.000000</td>\n",
       "      <td>1203.000000</td>\n",
       "      <td>1203.000000</td>\n",
       "      <td>1203.000000</td>\n",
       "      <td>1203.000000</td>\n",
       "      <td>1203.000000</td>\n",
       "      <td>1203.000000</td>\n",
       "      <td>1203.0</td>\n",
       "      <td>1203.000000</td>\n",
       "      <td>1203.000000</td>\n",
       "      <td>1203.000000</td>\n",
       "    </tr>\n",
       "    <tr>\n",
       "      <th>mean</th>\n",
       "      <td>27.329094</td>\n",
       "      <td>4.126193</td>\n",
       "      <td>9.951363</td>\n",
       "      <td>1.289277</td>\n",
       "      <td>0.291771</td>\n",
       "      <td>2.673317</td>\n",
       "      <td>0.625935</td>\n",
       "      <td>1.095594</td>\n",
       "      <td>0.0</td>\n",
       "      <td>1.915212</td>\n",
       "      <td>0.386534</td>\n",
       "      <td>0.798836</td>\n",
       "    </tr>\n",
       "    <tr>\n",
       "      <th>std</th>\n",
       "      <td>18.571000</td>\n",
       "      <td>2.471020</td>\n",
       "      <td>11.295066</td>\n",
       "      <td>1.805734</td>\n",
       "      <td>0.899523</td>\n",
       "      <td>3.401650</td>\n",
       "      <td>1.751555</td>\n",
       "      <td>1.709328</td>\n",
       "      <td>0.0</td>\n",
       "      <td>2.920658</td>\n",
       "      <td>1.347106</td>\n",
       "      <td>0.401037</td>\n",
       "    </tr>\n",
       "    <tr>\n",
       "      <th>min</th>\n",
       "      <td>3.400000</td>\n",
       "      <td>0.320000</td>\n",
       "      <td>0.000000</td>\n",
       "      <td>0.000000</td>\n",
       "      <td>0.000000</td>\n",
       "      <td>0.000000</td>\n",
       "      <td>0.000000</td>\n",
       "      <td>0.000000</td>\n",
       "      <td>0.0</td>\n",
       "      <td>0.000000</td>\n",
       "      <td>0.000000</td>\n",
       "      <td>0.000000</td>\n",
       "    </tr>\n",
       "    <tr>\n",
       "      <th>25%</th>\n",
       "      <td>12.050000</td>\n",
       "      <td>2.255000</td>\n",
       "      <td>6.600000</td>\n",
       "      <td>0.000000</td>\n",
       "      <td>0.000000</td>\n",
       "      <td>0.000000</td>\n",
       "      <td>0.000000</td>\n",
       "      <td>0.000000</td>\n",
       "      <td>0.0</td>\n",
       "      <td>0.000000</td>\n",
       "      <td>0.000000</td>\n",
       "      <td>1.000000</td>\n",
       "    </tr>\n",
       "    <tr>\n",
       "      <th>50%</th>\n",
       "      <td>21.000000</td>\n",
       "      <td>3.550000</td>\n",
       "      <td>8.600000</td>\n",
       "      <td>1.000000</td>\n",
       "      <td>0.000000</td>\n",
       "      <td>2.000000</td>\n",
       "      <td>0.000000</td>\n",
       "      <td>0.000000</td>\n",
       "      <td>0.0</td>\n",
       "      <td>1.000000</td>\n",
       "      <td>0.000000</td>\n",
       "      <td>1.000000</td>\n",
       "    </tr>\n",
       "    <tr>\n",
       "      <th>75%</th>\n",
       "      <td>40.850000</td>\n",
       "      <td>5.370000</td>\n",
       "      <td>11.050000</td>\n",
       "      <td>2.000000</td>\n",
       "      <td>0.000000</td>\n",
       "      <td>4.000000</td>\n",
       "      <td>0.000000</td>\n",
       "      <td>1.000000</td>\n",
       "      <td>0.0</td>\n",
       "      <td>2.500000</td>\n",
       "      <td>0.000000</td>\n",
       "      <td>1.000000</td>\n",
       "    </tr>\n",
       "    <tr>\n",
       "      <th>max</th>\n",
       "      <td>90.900000</td>\n",
       "      <td>14.000000</td>\n",
       "      <td>170.800000</td>\n",
       "      <td>13.000000</td>\n",
       "      <td>8.000000</td>\n",
       "      <td>25.000000</td>\n",
       "      <td>17.000000</td>\n",
       "      <td>13.000000</td>\n",
       "      <td>0.0</td>\n",
       "      <td>21.000000</td>\n",
       "      <td>14.000000</td>\n",
       "      <td>1.000000</td>\n",
       "    </tr>\n",
       "  </tbody>\n",
       "</table>\n",
       "</div>\n",
       "      <button class=\"colab-df-convert\" onclick=\"convertToInteractive('df-06edf579-9276-4102-b738-cc3e72174f7a')\"\n",
       "              title=\"Convert this dataframe to an interactive table.\"\n",
       "              style=\"display:none;\">\n",
       "        \n",
       "  <svg xmlns=\"http://www.w3.org/2000/svg\" height=\"24px\"viewBox=\"0 0 24 24\"\n",
       "       width=\"24px\">\n",
       "    <path d=\"M0 0h24v24H0V0z\" fill=\"none\"/>\n",
       "    <path d=\"M18.56 5.44l.94 2.06.94-2.06 2.06-.94-2.06-.94-.94-2.06-.94 2.06-2.06.94zm-11 1L8.5 8.5l.94-2.06 2.06-.94-2.06-.94L8.5 2.5l-.94 2.06-2.06.94zm10 10l.94 2.06.94-2.06 2.06-.94-2.06-.94-.94-2.06-.94 2.06-2.06.94z\"/><path d=\"M17.41 7.96l-1.37-1.37c-.4-.4-.92-.59-1.43-.59-.52 0-1.04.2-1.43.59L10.3 9.45l-7.72 7.72c-.78.78-.78 2.05 0 2.83L4 21.41c.39.39.9.59 1.41.59.51 0 1.02-.2 1.41-.59l7.78-7.78 2.81-2.81c.8-.78.8-2.07 0-2.86zM5.41 20L4 18.59l7.72-7.72 1.47 1.35L5.41 20z\"/>\n",
       "  </svg>\n",
       "      </button>\n",
       "      \n",
       "  <style>\n",
       "    .colab-df-container {\n",
       "      display:flex;\n",
       "      flex-wrap:wrap;\n",
       "      gap: 12px;\n",
       "    }\n",
       "\n",
       "    .colab-df-convert {\n",
       "      background-color: #E8F0FE;\n",
       "      border: none;\n",
       "      border-radius: 50%;\n",
       "      cursor: pointer;\n",
       "      display: none;\n",
       "      fill: #1967D2;\n",
       "      height: 32px;\n",
       "      padding: 0 0 0 0;\n",
       "      width: 32px;\n",
       "    }\n",
       "\n",
       "    .colab-df-convert:hover {\n",
       "      background-color: #E2EBFA;\n",
       "      box-shadow: 0px 1px 2px rgba(60, 64, 67, 0.3), 0px 1px 3px 1px rgba(60, 64, 67, 0.15);\n",
       "      fill: #174EA6;\n",
       "    }\n",
       "\n",
       "    [theme=dark] .colab-df-convert {\n",
       "      background-color: #3B4455;\n",
       "      fill: #D2E3FC;\n",
       "    }\n",
       "\n",
       "    [theme=dark] .colab-df-convert:hover {\n",
       "      background-color: #434B5C;\n",
       "      box-shadow: 0px 1px 3px 1px rgba(0, 0, 0, 0.15);\n",
       "      filter: drop-shadow(0px 1px 2px rgba(0, 0, 0, 0.3));\n",
       "      fill: #FFFFFF;\n",
       "    }\n",
       "  </style>\n",
       "\n",
       "      <script>\n",
       "        const buttonEl =\n",
       "          document.querySelector('#df-06edf579-9276-4102-b738-cc3e72174f7a button.colab-df-convert');\n",
       "        buttonEl.style.display =\n",
       "          google.colab.kernel.accessAllowed ? 'block' : 'none';\n",
       "\n",
       "        async function convertToInteractive(key) {\n",
       "          const element = document.querySelector('#df-06edf579-9276-4102-b738-cc3e72174f7a');\n",
       "          const dataTable =\n",
       "            await google.colab.kernel.invokeFunction('convertToInteractive',\n",
       "                                                     [key], {});\n",
       "          if (!dataTable) return;\n",
       "\n",
       "          const docLinkHtml = 'Like what you see? Visit the ' +\n",
       "            '<a target=\"_blank\" href=https://colab.research.google.com/notebooks/data_table.ipynb>data table notebook</a>'\n",
       "            + ' to learn more about interactive tables.';\n",
       "          element.innerHTML = '';\n",
       "          dataTable['output_type'] = 'display_data';\n",
       "          await google.colab.output.renderOutput(dataTable, element);\n",
       "          const docLink = document.createElement('div');\n",
       "          docLink.innerHTML = docLinkHtml;\n",
       "          element.appendChild(docLink);\n",
       "        }\n",
       "      </script>\n",
       "    </div>\n",
       "  </div>\n",
       "  "
      ],
      "text/plain": [
       "               Age        ratio         G6PD    EP_6M_AVT  AcPf_6M_AVT  \\\n",
       "count  1203.000000  1203.000000  1203.000000  1203.000000  1203.000000   \n",
       "mean     27.329094     4.126193     9.951363     1.289277     0.291771   \n",
       "std      18.571000     2.471020    11.295066     1.805734     0.899523   \n",
       "min       3.400000     0.320000     0.000000     0.000000     0.000000   \n",
       "25%      12.050000     2.255000     6.600000     0.000000     0.000000   \n",
       "50%      21.000000     3.550000     8.600000     1.000000     0.000000   \n",
       "75%      40.850000     5.370000    11.050000     2.000000     0.000000   \n",
       "max      90.900000    14.000000   170.800000    13.000000     8.000000   \n",
       "\n",
       "        EP_1AN_AVT  AcPf_1AN_AVT    EP_6M_APR  AcPf_6M_APR   EP_1AN_APR  \\\n",
       "count  1203.000000   1203.000000  1203.000000       1203.0  1203.000000   \n",
       "mean      2.673317      0.625935     1.095594          0.0     1.915212   \n",
       "std       3.401650      1.751555     1.709328          0.0     2.920658   \n",
       "min       0.000000      0.000000     0.000000          0.0     0.000000   \n",
       "25%       0.000000      0.000000     0.000000          0.0     0.000000   \n",
       "50%       2.000000      0.000000     0.000000          0.0     1.000000   \n",
       "75%       4.000000      0.000000     1.000000          0.0     2.500000   \n",
       "max      25.000000     17.000000    13.000000          0.0    21.000000   \n",
       "\n",
       "       AcPf_1AN_APR       status  \n",
       "count   1203.000000  1203.000000  \n",
       "mean       0.386534     0.798836  \n",
       "std        1.347106     0.401037  \n",
       "min        0.000000     0.000000  \n",
       "25%        0.000000     1.000000  \n",
       "50%        0.000000     1.000000  \n",
       "75%        0.000000     1.000000  \n",
       "max       14.000000     1.000000  "
      ]
     },
     "execution_count": 100,
     "metadata": {},
     "output_type": "execute_result"
    }
   ],
   "source": [
    "df.describe()"
   ]
  },
  {
   "cell_type": "code",
   "execution_count": null,
   "metadata": {
    "colab": {
     "base_uri": "https://localhost:8080/"
    },
    "id": "NacnOyLTMr9_",
    "outputId": "ca2771b0-c54d-45c1-e68e-7eb4190ed217"
   },
   "outputs": [
    {
     "data": {
      "text/plain": [
       "34.4"
      ]
     },
     "execution_count": 101,
     "metadata": {},
     "output_type": "execute_result"
    }
   ],
   "source": [
    "df['G6PD'].quantile(0.99)"
   ]
  },
  {
   "cell_type": "code",
   "execution_count": null,
   "metadata": {
    "colab": {
     "base_uri": "https://localhost:8080/",
     "height": 1000
    },
    "id": "IdTHJLHGEX5C",
    "outputId": "b85a4cf6-b06c-40aa-b04f-4f1c54e549ac"
   },
   "outputs": [
    {
     "data": {
      "image/png": "[encoded data removed]",
      "text/plain": [
       "<Figure size 432x288 with 1 Axes>"
      ]
     },
     "metadata": {
      "needs_background": "light"
     },
     "output_type": "display_data"
    },
    {
     "data": {
      "image/png": "[encoded data removed]",
      "text/plain": [
       "<Figure size 432x288 with 1 Axes>"
      ]
     },
     "metadata": {
      "needs_background": "light"
     },
     "output_type": "display_data"
    },
    {
     "data": {
      "image/png": "[encoded data removed]",
      "text/plain": [
       "<Figure size 432x288 with 1 Axes>"
      ]
     },
     "metadata": {
      "needs_background": "light"
     },
     "output_type": "display_data"
    },
    {
     "data": {
      "image/png": "[encoded data removed]",
      "text/plain": [
       "<Figure size 432x288 with 1 Axes>"
      ]
     },
     "metadata": {
      "needs_background": "light"
     },
     "output_type": "display_data"
    },
    {
     "data": {
      "image/png": "[encoded data removed]",
      "text/plain": [
       "<Figure size 432x288 with 1 Axes>"
      ]
     },
     "metadata": {
      "needs_background": "light"
     },
     "output_type": "display_data"
    }
   ],
   "source": [
    "for col in df.select_dtypes('object'):\n",
    "  plt.figure()\n",
    "  sns.countplot(x=col,data=df);"
   ]
  },
  {
   "cell_type": "code",
   "execution_count": null,
   "metadata": {
    "colab": {
     "base_uri": "https://localhost:8080/",
     "height": 265
    },
    "id": "hBliGxYXs6g7",
    "outputId": "9fa49b1a-cb37-4226-dafe-aabd44558bcb"
   },
   "outputs": [
    {
     "data": {
      "image/png": "[encoded data removed]",
      "text/plain": [
       "<Figure size 432x288 with 1 Axes>"
      ]
     },
     "metadata": {
      "needs_background": "light"
     },
     "output_type": "display_data"
    }
   ],
   "source": [
    "import matplotlib.pyplot as plt\n",
    "\n",
    "# Assume 'df' is your DataFrame\n",
    "df.select_dtypes('float').boxplot()\n",
    "plt.show()"
   ]
  },
  {
   "cell_type": "code",
   "execution_count": null,
   "metadata": {
    "colab": {
     "base_uri": "https://localhost:8080/",
     "height": 266
    },
    "id": "uttWVwUoGL2F",
    "outputId": "8f547fbb-c45e-45a3-cdf1-b89b458b74dd"
   },
   "outputs": [
    {
     "data": {
      "image/png": "[encoded data removed]",
      "text/plain": [
       "<Figure size 432x288 with 1 Axes>"
      ]
     },
     "metadata": {
      "needs_background": "light"
     },
     "output_type": "display_data"
    }
   ],
   "source": [
    "# Assume 'df' is your DataFrame\n",
    "df.select_dtypes('int64').boxplot()\n",
    "plt.show()"
   ]
  },
  {
   "cell_type": "code",
   "execution_count": null,
   "metadata": {
    "colab": {
     "base_uri": "https://localhost:8080/",
     "height": 282
    },
    "id": "MtMKZl7stoGk",
    "outputId": "c3167036-ea09-4b51-99fa-0e4c7737897b"
   },
   "outputs": [
    {
     "data": {
      "text/plain": [
       "<matplotlib.axes._subplots.AxesSubplot at 0x7f76baba2970>"
      ]
     },
     "execution_count": 105,
     "metadata": {},
     "output_type": "execute_result"
    },
    {
     "data": {
      "image/png": "[encoded data removed]",
      "text/plain": [
       "<Figure size 432x288 with 1 Axes>"
      ]
     },
     "metadata": {
      "needs_background": "light"
     },
     "output_type": "display_data"
    }
   ],
   "source": [
    "df[\"G6PD\"].plot.box()"
   ]
  },
  {
   "cell_type": "markdown",
   "metadata": {
    "id": "BjASevkGI5Fw"
   },
   "source": [
    "## Analyse en deux dimensions"
   ]
  },
  {
   "cell_type": "code",
   "execution_count": null,
   "metadata": {
    "colab": {
     "base_uri": "https://localhost:8080/",
     "height": 1000
    },
    "id": "q6W2G3HrJAJ6",
    "outputId": "2e3cf363-bea1-4425-e277-878142ca23b6"
   },
   "outputs": [
    {
     "data": {
      "image/png": "[encoded data removed]",
      "text/plain": [
       "<Figure size 432x288 with 1 Axes>"
      ]
     },
     "metadata": {
      "needs_background": "light"
     },
     "output_type": "display_data"
    },
    {
     "data": {
      "image/png": "[encoded data removed]",
      "text/plain": [
       "<Figure size 432x288 with 1 Axes>"
      ]
     },
     "metadata": {
      "needs_background": "light"
     },
     "output_type": "display_data"
    },
    {
     "data": {
      "image/png": "[encoded data removed]",
      "text/plain": [
       "<Figure size 432x288 with 1 Axes>"
      ]
     },
     "metadata": {
      "needs_background": "light"
     },
     "output_type": "display_data"
    },
    {
     "data": {
      "image/png": "[encoded data removed]",
      "text/plain": [
       "<Figure size 432x288 with 1 Axes>"
      ]
     },
     "metadata": {
      "needs_background": "light"
     },
     "output_type": "display_data"
    },
    {
     "data": {
      "image/png": "[encoded data removed]",
      "text/plain": [
       "<Figure size 432x288 with 1 Axes>"
      ]
     },
     "metadata": {
      "needs_background": "light"
     },
     "output_type": "display_data"
    },
    {
     "data": {
      "image/png": "[encoded data removed]",
      "text/plain": [
       "<Figure size 432x288 with 1 Axes>"
      ]
     },
     "metadata": {
      "needs_background": "light"
     },
     "output_type": "display_data"
    },
    {
     "data": {
      "image/png": "[encoded data removed]",
      "text/plain": [
       "<Figure size 432x288 with 1 Axes>"
      ]
     },
     "metadata": {
      "needs_background": "light"
     },
     "output_type": "display_data"
    },
    {
     "data": {
      "image/png": "[encoded data removed]",
      "text/plain": [
       "<Figure size 432x288 with 1 Axes>"
      ]
     },
     "metadata": {
      "needs_background": "light"
     },
     "output_type": "display_data"
    },
    {
     "data": {
      "image/png": "[encoded data removed]",
      "text/plain": [
       "<Figure size 432x288 with 1 Axes>"
      ]
     },
     "metadata": {
      "needs_background": "light"
     },
     "output_type": "display_data"
    }
   ],
   "source": [
    "for col in df.select_dtypes('int64'):\n",
    "  plt.figure()\n",
    "  sns.boxplot(x=\"status\",y=col,data=df);"
   ]
  },
  {
   "cell_type": "code",
   "execution_count": null,
   "metadata": {
    "colab": {
     "base_uri": "https://localhost:8080/",
     "height": 803
    },
    "id": "KSozwoUYJp3D",
    "outputId": "b7e14962-b07b-4d8d-87ee-c6a31594f288"
   },
   "outputs": [
    {
     "data": {
      "image/png": "[encoded data removed]",
      "text/plain": [
       "<Figure size 432x288 with 1 Axes>"
      ]
     },
     "metadata": {
      "needs_background": "light"
     },
     "output_type": "display_data"
    },
    {
     "data": {
      "image/png": "[encoded data removed]",
      "text/plain": [
       "<Figure size 432x288 with 1 Axes>"
      ]
     },
     "metadata": {
      "needs_background": "light"
     },
     "output_type": "display_data"
    },
    {
     "data": {
      "image/png": "[encoded data removed]",
      "text/plain": [
       "<Figure size 432x288 with 1 Axes>"
      ]
     },
     "metadata": {
      "needs_background": "light"
     },
     "output_type": "display_data"
    }
   ],
   "source": [
    "for col in df.select_dtypes('float'):\n",
    "  plt.figure()\n",
    "  sns.boxplot(x=\"status\",y=col,data=df);"
   ]
  },
  {
   "cell_type": "code",
   "execution_count": null,
   "metadata": {
    "colab": {
     "base_uri": "https://localhost:8080/",
     "height": 282
    },
    "id": "fqNzXNkMuJWt",
    "outputId": "fb1f38d7-1851-40de-b5f6-6ea0106f1469"
   },
   "outputs": [
    {
     "data": {
      "text/plain": [
       "<matplotlib.axes._subplots.AxesSubplot at 0x7f76ba72ba90>"
      ]
     },
     "execution_count": 108,
     "metadata": {},
     "output_type": "execute_result"
    },
    {
     "data": {
      "image/png": "[encoded data removed]",
      "text/plain": [
       "<Figure size 432x288 with 1 Axes>"
      ]
     },
     "metadata": {
      "needs_background": "light"
     },
     "output_type": "display_data"
    }
   ],
   "source": [
    "df[\"Age\"].plot.box()"
   ]
  },
  {
   "cell_type": "code",
   "execution_count": null,
   "metadata": {
    "colab": {
     "base_uri": "https://localhost:8080/",
     "height": 1000
    },
    "id": "_emUbINe0n_w",
    "outputId": "8b5b1603-5862-47c4-d7bb-741225a6c05e"
   },
   "outputs": [
    {
     "data": {
      "text/plain": [
       "<Figure size 432x288 with 0 Axes>"
      ]
     },
     "metadata": {},
     "output_type": "display_data"
    },
    {
     "data": {
      "image/png": "[encoded data removed]",
      "text/plain": [
       "<Figure size 360x360 with 1 Axes>"
      ]
     },
     "metadata": {
      "needs_background": "light"
     },
     "output_type": "display_data"
    },
    {
     "data": {
      "text/plain": [
       "<Figure size 432x288 with 0 Axes>"
      ]
     },
     "metadata": {},
     "output_type": "display_data"
    },
    {
     "data": {
      "image/png": "[encoded data removed]",
      "text/plain": [
       "<Figure size 360x360 with 1 Axes>"
      ]
     },
     "metadata": {
      "needs_background": "light"
     },
     "output_type": "display_data"
    },
    {
     "data": {
      "text/plain": [
       "<Figure size 432x288 with 0 Axes>"
      ]
     },
     "metadata": {},
     "output_type": "display_data"
    },
    {
     "data": {
      "image/png": "[encoded data removed]",
      "text/plain": [
       "<Figure size 360x360 with 1 Axes>"
      ]
     },
     "metadata": {
      "needs_background": "light"
     },
     "output_type": "display_data"
    }
   ],
   "source": [
    "\n",
    "for col in df.select_dtypes('float'):\n",
    "  plt.figure()\n",
    "  sns.displot(df[col],kde=True)"
   ]
  },
  {
   "cell_type": "markdown",
   "metadata": {
    "id": "qzEMcb443yr5"
   },
   "source": [
    "\n",
    "\n",
    "*   l'age moyenne de la population se tourne autour de 20 ans\n",
    "*   Notre ratio est au tour 2.5 à 3 ce qui prouve que la plus des patient répond positivement au vaccin\n",
    "*   le G6PD a une moyennne de 15 environ\n",
    "\n",
    "\n",
    "\n"
   ]
  },
  {
   "cell_type": "markdown",
   "metadata": {
    "id": "OZyBFEgCN4b7"
   },
   "source": [
    "### Analyse de valeur abérantes"
   ]
  },
  {
   "cell_type": "code",
   "execution_count": null,
   "metadata": {
    "id": "6-RzFY0pN_zn"
   },
   "outputs": [],
   "source": [
    "# valeur < Q1 - 1,5*IQR ou valeur > Q3 + 1,5*IQR\n",
    "\n",
    "def finding_outliers(data, variable_name):\n",
    "  iqr = data[variable_name].quantile(0.75) - data[variable_name].quantile(0.25)\n",
    "  lower = data[variable_name].quantile(0.25) - 1.5 * iqr\n",
    "  upper = data[variable_name].quantile(0.75) + 1.5 * iqr \n",
    "  return data[(data[variable_name] < lower) | (data[variable_name] > upper)]"
   ]
  },
  {
   "cell_type": "code",
   "execution_count": null,
   "metadata": {
    "colab": {
     "base_uri": "https://localhost:8080/"
    },
    "id": "9iW4YPFNOEdr",
    "outputId": "e6e1ad9b-5704-444f-bd2c-7b1b5e726163"
   },
   "outputs": [
    {
     "data": {
      "text/plain": [
       "(79, 17)"
      ]
     },
     "execution_count": 111,
     "metadata": {},
     "output_type": "execute_result"
    }
   ],
   "source": [
    "finding_outliers(df, 'G6PD').sort_values('G6PD').shape"
   ]
  },
  {
   "cell_type": "code",
   "execution_count": null,
   "metadata": {
    "colab": {
     "base_uri": "https://localhost:8080/"
    },
    "id": "dYEEx8o1PX_w",
    "outputId": "95e4c9f2-450f-47d9-f685-46a28dc8c636"
   },
   "outputs": [
    {
     "data": {
      "text/plain": [
       "(48, 17)"
      ]
     },
     "execution_count": 112,
     "metadata": {},
     "output_type": "execute_result"
    }
   ],
   "source": [
    "finding_outliers(df, 'EP_6M_AVT').sort_values('EP_6M_AVT').shape"
   ]
  },
  {
   "cell_type": "code",
   "execution_count": null,
   "metadata": {
    "colab": {
     "base_uri": "https://localhost:8080/"
    },
    "id": "2Q-kZK2hPrRo",
    "outputId": "dd80ebd7-7d02-44ea-f72a-3ce45f7621fc"
   },
   "outputs": [
    {
     "data": {
      "text/plain": [
       "(195, 17)"
      ]
     },
     "execution_count": 113,
     "metadata": {},
     "output_type": "execute_result"
    }
   ],
   "source": [
    "finding_outliers(df, 'AcPf_6M_AVT').sort_values('AcPf_6M_AVT').shape"
   ]
  },
  {
   "cell_type": "code",
   "execution_count": null,
   "metadata": {
    "colab": {
     "base_uri": "https://localhost:8080/"
    },
    "id": "tjbG9S0wQDvv",
    "outputId": "88a8e443-838d-47c1-f7ab-2f18d0c33c6d"
   },
   "outputs": [
    {
     "data": {
      "text/plain": [
       "(52, 17)"
      ]
     },
     "execution_count": 114,
     "metadata": {},
     "output_type": "execute_result"
    }
   ],
   "source": [
    "finding_outliers(df, 'EP_1AN_AVT').sort_values('EP_1AN_AVT').shape"
   ]
  },
  {
   "cell_type": "code",
   "execution_count": null,
   "metadata": {
    "colab": {
     "base_uri": "https://localhost:8080/"
    },
    "id": "0_cnmr75QD5y",
    "outputId": "66c9285a-c562-4fb8-9bbc-a14394dcb568"
   },
   "outputs": [
    {
     "data": {
      "text/plain": [
       "(285, 17)"
      ]
     },
     "execution_count": 115,
     "metadata": {},
     "output_type": "execute_result"
    }
   ],
   "source": [
    "finding_outliers(df, 'AcPf_1AN_AVT').sort_values('AcPf_1AN_AVT').shape"
   ]
  },
  {
   "cell_type": "code",
   "execution_count": null,
   "metadata": {
    "colab": {
     "base_uri": "https://localhost:8080/"
    },
    "id": "L2iWm1zOQD8u",
    "outputId": "41f47f46-85c9-42ac-c4d0-8e5a8a925650"
   },
   "outputs": [
    {
     "data": {
      "text/plain": [
       "(163, 17)"
      ]
     },
     "execution_count": 116,
     "metadata": {},
     "output_type": "execute_result"
    }
   ],
   "source": [
    "finding_outliers(df, 'EP_6M_APR').sort_values('EP_6M_APR').shape"
   ]
  },
  {
   "cell_type": "code",
   "execution_count": null,
   "metadata": {
    "colab": {
     "base_uri": "https://localhost:8080/"
    },
    "id": "TEJouhV8Qg60",
    "outputId": "232a2f0e-ab76-4b85-e0f7-404350e835a5"
   },
   "outputs": [
    {
     "data": {
      "text/plain": [
       "(82, 17)"
      ]
     },
     "execution_count": 117,
     "metadata": {},
     "output_type": "execute_result"
    }
   ],
   "source": [
    "finding_outliers(df, 'EP_1AN_APR').sort_values('EP_1AN_APR').shape "
   ]
  },
  {
   "cell_type": "code",
   "execution_count": null,
   "metadata": {
    "colab": {
     "base_uri": "https://localhost:8080/"
    },
    "id": "zPsF3X7rQg2B",
    "outputId": "eb189e08-9d73-4fba-a309-375e5aa04a2c"
   },
   "outputs": [
    {
     "data": {
      "text/plain": [
       "(189, 17)"
      ]
     },
     "execution_count": 118,
     "metadata": {},
     "output_type": "execute_result"
    }
   ],
   "source": [
    "finding_outliers(df, 'AcPf_1AN_APR').sort_values('AcPf_1AN_APR').shape "
   ]
  },
  {
   "cell_type": "code",
   "execution_count": null,
   "metadata": {
    "id": "bU1ZyldZQgmG"
   },
   "outputs": [],
   "source": [
    "iqr_G6PD = df['G6PD'].quantile(0.75) - df['G6PD'].quantile(0.25)\n",
    "iqr_EP_1AN_AVT = df['EP_1AN_AVT'].quantile(0.75) - df['EP_1AN_AVT'].quantile(0.25)\n",
    "iqr_EP_6M_AVT = df['EP_6M_AVT'].quantile(0.75) - df['EP_6M_AVT'].quantile(0.25)\n",
    "iqr_AcPf_6M_AVT = df['AcPf_6M_AVT'].quantile(0.75) - df['AcPf_6M_AVT'].quantile(0.25)\n",
    "iqr_AcPf_1AN_AVT = df['AcPf_1AN_AVT'].quantile(0.75) - df['AcPf_1AN_AVT'].quantile(0.25)\n",
    "iqr_EP_6M_APR = df['EP_6M_APR'].quantile(0.75) - df['EP_6M_APR'].quantile(0.25)\n",
    "iqr_EP_1AN_APR = df['EP_1AN_APR'].quantile(0.75) - df['EP_1AN_APR'].quantile(0.25)\n",
    "iqr_AcPf_1AN_APR = df['AcPf_1AN_APR'].quantile(0.75) - df['AcPf_1AN_APR'].quantile(0.25)\n",
    "\n"
   ]
  },
  {
   "cell_type": "code",
   "execution_count": null,
   "metadata": {
    "id": "YIF6XSlYUpxB"
   },
   "outputs": [],
   "source": [
    "df.loc[(finding_outliers(df, 'G6PD').index, 'G6PD')] = df['G6PD'].quantile(0.75) + 1.5 * iqr_G6PD\n",
    "df.loc[(finding_outliers(df, 'EP_1AN_AVT').index, 'EP_1AN_AVT')] = df['EP_1AN_AVT'].quantile(0.75) + 1.5 * iqr_EP_1AN_AVT\n",
    "df.loc[(finding_outliers(df, 'EP_6M_AVT').index, 'EP_6M_AVT')] = df['EP_6M_AVT'].quantile(0.75) + 1.5 * iqr_EP_6M_AVT\n",
    "df.loc[(finding_outliers(df, 'AcPf_6M_AVT').index, 'AcPf_6M_AVT')] = df['AcPf_6M_AVT'].quantile(0.75) + 1.5 * iqr_AcPf_6M_AVT\n",
    "df.loc[(finding_outliers(df, 'AcPf_1AN_AVT').index, 'AcPf_1AN_AVT')] = df['AcPf_1AN_AVT'].quantile(0.75) + 1.5 * iqr_AcPf_1AN_AVT\n",
    "df.loc[(finding_outliers(df, 'EP_6M_APR').index, 'EP_6M_APR')] = df['EP_6M_APR'].quantile(0.75) + 1.5 * iqr_EP_6M_APR\n",
    "df.loc[(finding_outliers(df, 'EP_1AN_APR').index, 'EP_1AN_APR')] = df['EP_1AN_APR'].quantile(0.75) + 1.5 * iqr_EP_1AN_APR\n",
    "df.loc[(finding_outliers(df, 'AcPf_1AN_APR').index, 'AcPf_1AN_APR')] = df['AcPf_1AN_APR'].quantile(0.75) + 1.5 * iqr_AcPf_1AN_APR"
   ]
  },
  {
   "cell_type": "code",
   "execution_count": null,
   "metadata": {
    "colab": {
     "base_uri": "https://localhost:8080/",
     "height": 364
    },
    "id": "gZQ_YYsKUp6U",
    "outputId": "29a1c30a-98d2-4b7e-bbff-c2a4fbad3b18"
   },
   "outputs": [
    {
     "data": {
      "text/html": [
       "\n",
       "  <div id=\"df-6c8b444c-a9f1-4e2b-a879-91584a49634d\">\n",
       "    <div class=\"colab-df-container\">\n",
       "      <div>\n",
       "<style scoped>\n",
       "    .dataframe tbody tr th:only-of-type {\n",
       "        vertical-align: middle;\n",
       "    }\n",
       "\n",
       "    .dataframe tbody tr th {\n",
       "        vertical-align: top;\n",
       "    }\n",
       "\n",
       "    .dataframe thead th {\n",
       "        text-align: right;\n",
       "    }\n",
       "</style>\n",
       "<table border=\"1\" class=\"dataframe\">\n",
       "  <thead>\n",
       "    <tr style=\"text-align: right;\">\n",
       "      <th></th>\n",
       "      <th>Age</th>\n",
       "      <th>ratio</th>\n",
       "      <th>G6PD</th>\n",
       "      <th>EP_6M_AVT</th>\n",
       "      <th>AcPf_6M_AVT</th>\n",
       "      <th>EP_1AN_AVT</th>\n",
       "      <th>AcPf_1AN_AVT</th>\n",
       "      <th>EP_6M_APR</th>\n",
       "      <th>AcPf_6M_APR</th>\n",
       "      <th>EP_1AN_APR</th>\n",
       "      <th>AcPf_1AN_APR</th>\n",
       "      <th>status</th>\n",
       "    </tr>\n",
       "  </thead>\n",
       "  <tbody>\n",
       "    <tr>\n",
       "      <th>count</th>\n",
       "      <td>1203.000000</td>\n",
       "      <td>1203.000000</td>\n",
       "      <td>1203.000000</td>\n",
       "      <td>1203.000000</td>\n",
       "      <td>1203.0</td>\n",
       "      <td>1203.000000</td>\n",
       "      <td>1203.0</td>\n",
       "      <td>1203.000000</td>\n",
       "      <td>1203.0</td>\n",
       "      <td>1203.000000</td>\n",
       "      <td>1203.0</td>\n",
       "      <td>1203.000000</td>\n",
       "    </tr>\n",
       "    <tr>\n",
       "      <th>mean</th>\n",
       "      <td>27.329094</td>\n",
       "      <td>4.126193</td>\n",
       "      <td>8.915266</td>\n",
       "      <td>1.186201</td>\n",
       "      <td>0.0</td>\n",
       "      <td>2.479634</td>\n",
       "      <td>0.0</td>\n",
       "      <td>0.806733</td>\n",
       "      <td>0.0</td>\n",
       "      <td>1.631338</td>\n",
       "      <td>0.0</td>\n",
       "      <td>0.798836</td>\n",
       "    </tr>\n",
       "    <tr>\n",
       "      <th>std</th>\n",
       "      <td>18.571000</td>\n",
       "      <td>2.471020</td>\n",
       "      <td>4.477683</td>\n",
       "      <td>1.452604</td>\n",
       "      <td>0.0</td>\n",
       "      <td>2.714699</td>\n",
       "      <td>0.0</td>\n",
       "      <td>0.940322</td>\n",
       "      <td>0.0</td>\n",
       "      <td>1.973962</td>\n",
       "      <td>0.0</td>\n",
       "      <td>0.401037</td>\n",
       "    </tr>\n",
       "    <tr>\n",
       "      <th>min</th>\n",
       "      <td>3.400000</td>\n",
       "      <td>0.320000</td>\n",
       "      <td>0.000000</td>\n",
       "      <td>0.000000</td>\n",
       "      <td>0.0</td>\n",
       "      <td>0.000000</td>\n",
       "      <td>0.0</td>\n",
       "      <td>0.000000</td>\n",
       "      <td>0.0</td>\n",
       "      <td>0.000000</td>\n",
       "      <td>0.0</td>\n",
       "      <td>0.000000</td>\n",
       "    </tr>\n",
       "    <tr>\n",
       "      <th>25%</th>\n",
       "      <td>12.050000</td>\n",
       "      <td>2.255000</td>\n",
       "      <td>6.600000</td>\n",
       "      <td>0.000000</td>\n",
       "      <td>0.0</td>\n",
       "      <td>0.000000</td>\n",
       "      <td>0.0</td>\n",
       "      <td>0.000000</td>\n",
       "      <td>0.0</td>\n",
       "      <td>0.000000</td>\n",
       "      <td>0.0</td>\n",
       "      <td>1.000000</td>\n",
       "    </tr>\n",
       "    <tr>\n",
       "      <th>50%</th>\n",
       "      <td>21.000000</td>\n",
       "      <td>3.550000</td>\n",
       "      <td>8.600000</td>\n",
       "      <td>1.000000</td>\n",
       "      <td>0.0</td>\n",
       "      <td>2.000000</td>\n",
       "      <td>0.0</td>\n",
       "      <td>0.000000</td>\n",
       "      <td>0.0</td>\n",
       "      <td>1.000000</td>\n",
       "      <td>0.0</td>\n",
       "      <td>1.000000</td>\n",
       "    </tr>\n",
       "    <tr>\n",
       "      <th>75%</th>\n",
       "      <td>40.850000</td>\n",
       "      <td>5.370000</td>\n",
       "      <td>11.050000</td>\n",
       "      <td>2.000000</td>\n",
       "      <td>0.0</td>\n",
       "      <td>4.000000</td>\n",
       "      <td>0.0</td>\n",
       "      <td>1.000000</td>\n",
       "      <td>0.0</td>\n",
       "      <td>2.500000</td>\n",
       "      <td>0.0</td>\n",
       "      <td>1.000000</td>\n",
       "    </tr>\n",
       "    <tr>\n",
       "      <th>max</th>\n",
       "      <td>90.900000</td>\n",
       "      <td>14.000000</td>\n",
       "      <td>17.725000</td>\n",
       "      <td>5.000000</td>\n",
       "      <td>0.0</td>\n",
       "      <td>10.000000</td>\n",
       "      <td>0.0</td>\n",
       "      <td>2.500000</td>\n",
       "      <td>0.0</td>\n",
       "      <td>6.250000</td>\n",
       "      <td>0.0</td>\n",
       "      <td>1.000000</td>\n",
       "    </tr>\n",
       "  </tbody>\n",
       "</table>\n",
       "</div>\n",
       "      <button class=\"colab-df-convert\" onclick=\"convertToInteractive('df-6c8b444c-a9f1-4e2b-a879-91584a49634d')\"\n",
       "              title=\"Convert this dataframe to an interactive table.\"\n",
       "              style=\"display:none;\">\n",
       "        \n",
       "  <svg xmlns=\"http://www.w3.org/2000/svg\" height=\"24px\"viewBox=\"0 0 24 24\"\n",
       "       width=\"24px\">\n",
       "    <path d=\"M0 0h24v24H0V0z\" fill=\"none\"/>\n",
       "    <path d=\"M18.56 5.44l.94 2.06.94-2.06 2.06-.94-2.06-.94-.94-2.06-.94 2.06-2.06.94zm-11 1L8.5 8.5l.94-2.06 2.06-.94-2.06-.94L8.5 2.5l-.94 2.06-2.06.94zm10 10l.94 2.06.94-2.06 2.06-.94-2.06-.94-.94-2.06-.94 2.06-2.06.94z\"/><path d=\"M17.41 7.96l-1.37-1.37c-.4-.4-.92-.59-1.43-.59-.52 0-1.04.2-1.43.59L10.3 9.45l-7.72 7.72c-.78.78-.78 2.05 0 2.83L4 21.41c.39.39.9.59 1.41.59.51 0 1.02-.2 1.41-.59l7.78-7.78 2.81-2.81c.8-.78.8-2.07 0-2.86zM5.41 20L4 18.59l7.72-7.72 1.47 1.35L5.41 20z\"/>\n",
       "  </svg>\n",
       "      </button>\n",
       "      \n",
       "  <style>\n",
       "    .colab-df-container {\n",
       "      display:flex;\n",
       "      flex-wrap:wrap;\n",
       "      gap: 12px;\n",
       "    }\n",
       "\n",
       "    .colab-df-convert {\n",
       "      background-color: #E8F0FE;\n",
       "      border: none;\n",
       "      border-radius: 50%;\n",
       "      cursor: pointer;\n",
       "      display: none;\n",
       "      fill: #1967D2;\n",
       "      height: 32px;\n",
       "      padding: 0 0 0 0;\n",
       "      width: 32px;\n",
       "    }\n",
       "\n",
       "    .colab-df-convert:hover {\n",
       "      background-color: #E2EBFA;\n",
       "      box-shadow: 0px 1px 2px rgba(60, 64, 67, 0.3), 0px 1px 3px 1px rgba(60, 64, 67, 0.15);\n",
       "      fill: #174EA6;\n",
       "    }\n",
       "\n",
       "    [theme=dark] .colab-df-convert {\n",
       "      background-color: #3B4455;\n",
       "      fill: #D2E3FC;\n",
       "    }\n",
       "\n",
       "    [theme=dark] .colab-df-convert:hover {\n",
       "      background-color: #434B5C;\n",
       "      box-shadow: 0px 1px 3px 1px rgba(0, 0, 0, 0.15);\n",
       "      filter: drop-shadow(0px 1px 2px rgba(0, 0, 0, 0.3));\n",
       "      fill: #FFFFFF;\n",
       "    }\n",
       "  </style>\n",
       "\n",
       "      <script>\n",
       "        const buttonEl =\n",
       "          document.querySelector('#df-6c8b444c-a9f1-4e2b-a879-91584a49634d button.colab-df-convert');\n",
       "        buttonEl.style.display =\n",
       "          google.colab.kernel.accessAllowed ? 'block' : 'none';\n",
       "\n",
       "        async function convertToInteractive(key) {\n",
       "          const element = document.querySelector('#df-6c8b444c-a9f1-4e2b-a879-91584a49634d');\n",
       "          const dataTable =\n",
       "            await google.colab.kernel.invokeFunction('convertToInteractive',\n",
       "                                                     [key], {});\n",
       "          if (!dataTable) return;\n",
       "\n",
       "          const docLinkHtml = 'Like what you see? Visit the ' +\n",
       "            '<a target=\"_blank\" href=https://colab.research.google.com/notebooks/data_table.ipynb>data table notebook</a>'\n",
       "            + ' to learn more about interactive tables.';\n",
       "          element.innerHTML = '';\n",
       "          dataTable['output_type'] = 'display_data';\n",
       "          await google.colab.output.renderOutput(dataTable, element);\n",
       "          const docLink = document.createElement('div');\n",
       "          docLink.innerHTML = docLinkHtml;\n",
       "          element.appendChild(docLink);\n",
       "        }\n",
       "      </script>\n",
       "    </div>\n",
       "  </div>\n",
       "  "
      ],
      "text/plain": [
       "               Age        ratio         G6PD    EP_6M_AVT  AcPf_6M_AVT  \\\n",
       "count  1203.000000  1203.000000  1203.000000  1203.000000       1203.0   \n",
       "mean     27.329094     4.126193     8.915266     1.186201          0.0   \n",
       "std      18.571000     2.471020     4.477683     1.452604          0.0   \n",
       "min       3.400000     0.320000     0.000000     0.000000          0.0   \n",
       "25%      12.050000     2.255000     6.600000     0.000000          0.0   \n",
       "50%      21.000000     3.550000     8.600000     1.000000          0.0   \n",
       "75%      40.850000     5.370000    11.050000     2.000000          0.0   \n",
       "max      90.900000    14.000000    17.725000     5.000000          0.0   \n",
       "\n",
       "        EP_1AN_AVT  AcPf_1AN_AVT    EP_6M_APR  AcPf_6M_APR   EP_1AN_APR  \\\n",
       "count  1203.000000        1203.0  1203.000000       1203.0  1203.000000   \n",
       "mean      2.479634           0.0     0.806733          0.0     1.631338   \n",
       "std       2.714699           0.0     0.940322          0.0     1.973962   \n",
       "min       0.000000           0.0     0.000000          0.0     0.000000   \n",
       "25%       0.000000           0.0     0.000000          0.0     0.000000   \n",
       "50%       2.000000           0.0     0.000000          0.0     1.000000   \n",
       "75%       4.000000           0.0     1.000000          0.0     2.500000   \n",
       "max      10.000000           0.0     2.500000          0.0     6.250000   \n",
       "\n",
       "       AcPf_1AN_APR       status  \n",
       "count        1203.0  1203.000000  \n",
       "mean            0.0     0.798836  \n",
       "std             0.0     0.401037  \n",
       "min             0.0     0.000000  \n",
       "25%             0.0     1.000000  \n",
       "50%             0.0     1.000000  \n",
       "75%             0.0     1.000000  \n",
       "max             0.0     1.000000  "
      ]
     },
     "execution_count": 121,
     "metadata": {},
     "output_type": "execute_result"
    }
   ],
   "source": [
    "df.describe()"
   ]
  },
  {
   "cell_type": "code",
   "execution_count": null,
   "metadata": {
    "id": "K3cmsqW7Up89"
   },
   "outputs": [],
   "source": []
  },
  {
   "cell_type": "code",
   "execution_count": null,
   "metadata": {
    "colab": {
     "base_uri": "https://localhost:8080/"
    },
    "id": "sVe9IifiQEL0",
    "outputId": "cd0b7562-209f-4f86-bbfc-51c323c32e1a"
   },
   "outputs": [
    {
     "data": {
      "text/plain": [
       "(0, 17)"
      ]
     },
     "execution_count": 122,
     "metadata": {},
     "output_type": "execute_result"
    }
   ],
   "source": [
    "finding_outliers(df, 'EP_6M_APR').sort_values('EP_6M_APR').shape"
   ]
  },
  {
   "cell_type": "markdown",
   "metadata": {
    "id": "OT7-dowh45nY"
   },
   "source": [
    "## Encodage de données"
   ]
  },
  {
   "cell_type": "code",
   "execution_count": null,
   "metadata": {
    "colab": {
     "base_uri": "https://localhost:8080/"
    },
    "id": "LFFCy8vBJnlD",
    "outputId": "b294c9fe-59a5-45cd-a000-431807eb037e"
   },
   "outputs": [
    {
     "data": {
      "text/plain": [
       "0       1\n",
       "1       1\n",
       "2       1\n",
       "3       0\n",
       "4       1\n",
       "       ..\n",
       "1230    0\n",
       "1231    0\n",
       "1232    1\n",
       "1233    0\n",
       "1234    0\n",
       "Name: status, Length: 1203, dtype: int64"
      ]
     },
     "execution_count": 123,
     "metadata": {},
     "output_type": "execute_result"
    }
   ],
   "source": [
    "df[\"status\"]"
   ]
  },
  {
   "cell_type": "code",
   "execution_count": null,
   "metadata": {
    "id": "HtWcOS4g2xw9"
   },
   "outputs": [],
   "source": []
  },
  {
   "cell_type": "code",
   "execution_count": null,
   "metadata": {
    "id": "yQLQ-0p28HfO"
   },
   "outputs": [],
   "source": [
    "## suppression de la colonne ID et ratio\n",
    "df.drop([\"ID\"],axis=1,inplace=True)\n",
    "df.drop([\"ratio\"],axis=1,inplace=True)\n",
    "df.drop([\"AcPf_1AN_APR\"],axis=1,inplace=True)"
   ]
  },
  {
   "cell_type": "code",
   "execution_count": null,
   "metadata": {
    "colab": {
     "base_uri": "https://localhost:8080/"
    },
    "id": "tl-GpON6-74H",
    "outputId": "54778671-0976-4c82-c1f8-f0b40ad15fa1"
   },
   "outputs": [
    {
     "data": {
      "text/plain": [
       "Sexe             object\n",
       "Age             float64\n",
       "Type_Hb          object\n",
       "G6PD            float64\n",
       "Gpe_ABO          object\n",
       "Rhesus           object\n",
       "EP_6M_AVT         int64\n",
       "AcPf_6M_AVT       int64\n",
       "EP_1AN_AVT        int64\n",
       "AcPf_1AN_AVT      int64\n",
       "EP_6M_APR       float64\n",
       "AcPf_6M_APR       int64\n",
       "EP_1AN_APR      float64\n",
       "status            int64\n",
       "dtype: object"
      ]
     },
     "execution_count": 125,
     "metadata": {},
     "output_type": "execute_result"
    }
   ],
   "source": [
    "# liste des types de variables\n",
    "df.dtypes"
   ]
  },
  {
   "cell_type": "markdown",
   "metadata": {
    "id": "1yWZVR7IBCV_"
   },
   "source": [
    "Encodage de nos données catégorielles avec one hot encoding"
   ]
  },
  {
   "cell_type": "code",
   "execution_count": null,
   "metadata": {
    "colab": {
     "base_uri": "https://localhost:8080/",
     "height": 300
    },
    "id": "euQ2vAZE-vo7",
    "outputId": "369e2283-c5d4-43af-81ff-ab2b11604629"
   },
   "outputs": [
    {
     "data": {
      "text/html": [
       "\n",
       "  <div id=\"df-6e32e041-a0cb-4941-8ac4-d64e6c4ede95\">\n",
       "    <div class=\"colab-df-container\">\n",
       "      <div>\n",
       "<style scoped>\n",
       "    .dataframe tbody tr th:only-of-type {\n",
       "        vertical-align: middle;\n",
       "    }\n",
       "\n",
       "    .dataframe tbody tr th {\n",
       "        vertical-align: top;\n",
       "    }\n",
       "\n",
       "    .dataframe thead th {\n",
       "        text-align: right;\n",
       "    }\n",
       "</style>\n",
       "<table border=\"1\" class=\"dataframe\">\n",
       "  <thead>\n",
       "    <tr style=\"text-align: right;\">\n",
       "      <th></th>\n",
       "      <th>Age</th>\n",
       "      <th>G6PD</th>\n",
       "      <th>EP_6M_AVT</th>\n",
       "      <th>AcPf_6M_AVT</th>\n",
       "      <th>EP_1AN_AVT</th>\n",
       "      <th>AcPf_1AN_AVT</th>\n",
       "      <th>EP_6M_APR</th>\n",
       "      <th>AcPf_6M_APR</th>\n",
       "      <th>EP_1AN_APR</th>\n",
       "      <th>status</th>\n",
       "      <th>...</th>\n",
       "      <th>Type_Hb_AC</th>\n",
       "      <th>Type_Hb_AF</th>\n",
       "      <th>Type_Hb_AS</th>\n",
       "      <th>Type_Hb_AS+</th>\n",
       "      <th>Gpe_ABO_A</th>\n",
       "      <th>Gpe_ABO_AB</th>\n",
       "      <th>Gpe_ABO_B</th>\n",
       "      <th>Gpe_ABO_O</th>\n",
       "      <th>Rhesus_+</th>\n",
       "      <th>Rhesus_-</th>\n",
       "    </tr>\n",
       "  </thead>\n",
       "  <tbody>\n",
       "    <tr>\n",
       "      <th>0</th>\n",
       "      <td>29.2</td>\n",
       "      <td>12.0</td>\n",
       "      <td>1</td>\n",
       "      <td>0</td>\n",
       "      <td>1</td>\n",
       "      <td>0</td>\n",
       "      <td>2.5</td>\n",
       "      <td>0</td>\n",
       "      <td>6.00</td>\n",
       "      <td>1</td>\n",
       "      <td>...</td>\n",
       "      <td>0</td>\n",
       "      <td>0</td>\n",
       "      <td>0</td>\n",
       "      <td>0</td>\n",
       "      <td>0</td>\n",
       "      <td>0</td>\n",
       "      <td>0</td>\n",
       "      <td>1</td>\n",
       "      <td>1</td>\n",
       "      <td>0</td>\n",
       "    </tr>\n",
       "    <tr>\n",
       "      <th>1</th>\n",
       "      <td>28.0</td>\n",
       "      <td>8.8</td>\n",
       "      <td>0</td>\n",
       "      <td>0</td>\n",
       "      <td>0</td>\n",
       "      <td>0</td>\n",
       "      <td>2.5</td>\n",
       "      <td>0</td>\n",
       "      <td>6.25</td>\n",
       "      <td>1</td>\n",
       "      <td>...</td>\n",
       "      <td>0</td>\n",
       "      <td>0</td>\n",
       "      <td>0</td>\n",
       "      <td>0</td>\n",
       "      <td>0</td>\n",
       "      <td>0</td>\n",
       "      <td>0</td>\n",
       "      <td>1</td>\n",
       "      <td>1</td>\n",
       "      <td>0</td>\n",
       "    </tr>\n",
       "    <tr>\n",
       "      <th>2</th>\n",
       "      <td>8.3</td>\n",
       "      <td>1.0</td>\n",
       "      <td>0</td>\n",
       "      <td>0</td>\n",
       "      <td>0</td>\n",
       "      <td>0</td>\n",
       "      <td>2.5</td>\n",
       "      <td>0</td>\n",
       "      <td>6.25</td>\n",
       "      <td>1</td>\n",
       "      <td>...</td>\n",
       "      <td>0</td>\n",
       "      <td>0</td>\n",
       "      <td>0</td>\n",
       "      <td>0</td>\n",
       "      <td>0</td>\n",
       "      <td>0</td>\n",
       "      <td>1</td>\n",
       "      <td>0</td>\n",
       "      <td>1</td>\n",
       "      <td>0</td>\n",
       "    </tr>\n",
       "    <tr>\n",
       "      <th>3</th>\n",
       "      <td>28.7</td>\n",
       "      <td>10.1</td>\n",
       "      <td>0</td>\n",
       "      <td>0</td>\n",
       "      <td>0</td>\n",
       "      <td>0</td>\n",
       "      <td>0.0</td>\n",
       "      <td>0</td>\n",
       "      <td>2.00</td>\n",
       "      <td>0</td>\n",
       "      <td>...</td>\n",
       "      <td>0</td>\n",
       "      <td>0</td>\n",
       "      <td>0</td>\n",
       "      <td>0</td>\n",
       "      <td>1</td>\n",
       "      <td>0</td>\n",
       "      <td>0</td>\n",
       "      <td>0</td>\n",
       "      <td>1</td>\n",
       "      <td>0</td>\n",
       "    </tr>\n",
       "    <tr>\n",
       "      <th>4</th>\n",
       "      <td>19.8</td>\n",
       "      <td>7.4</td>\n",
       "      <td>0</td>\n",
       "      <td>0</td>\n",
       "      <td>0</td>\n",
       "      <td>0</td>\n",
       "      <td>0.0</td>\n",
       "      <td>0</td>\n",
       "      <td>0.00</td>\n",
       "      <td>1</td>\n",
       "      <td>...</td>\n",
       "      <td>0</td>\n",
       "      <td>0</td>\n",
       "      <td>0</td>\n",
       "      <td>0</td>\n",
       "      <td>1</td>\n",
       "      <td>0</td>\n",
       "      <td>0</td>\n",
       "      <td>0</td>\n",
       "      <td>1</td>\n",
       "      <td>0</td>\n",
       "    </tr>\n",
       "  </tbody>\n",
       "</table>\n",
       "<p>5 rows × 24 columns</p>\n",
       "</div>\n",
       "      <button class=\"colab-df-convert\" onclick=\"convertToInteractive('df-6e32e041-a0cb-4941-8ac4-d64e6c4ede95')\"\n",
       "              title=\"Convert this dataframe to an interactive table.\"\n",
       "              style=\"display:none;\">\n",
       "        \n",
       "  <svg xmlns=\"http://www.w3.org/2000/svg\" height=\"24px\"viewBox=\"0 0 24 24\"\n",
       "       width=\"24px\">\n",
       "    <path d=\"M0 0h24v24H0V0z\" fill=\"none\"/>\n",
       "    <path d=\"M18.56 5.44l.94 2.06.94-2.06 2.06-.94-2.06-.94-.94-2.06-.94 2.06-2.06.94zm-11 1L8.5 8.5l.94-2.06 2.06-.94-2.06-.94L8.5 2.5l-.94 2.06-2.06.94zm10 10l.94 2.06.94-2.06 2.06-.94-2.06-.94-.94-2.06-.94 2.06-2.06.94z\"/><path d=\"M17.41 7.96l-1.37-1.37c-.4-.4-.92-.59-1.43-.59-.52 0-1.04.2-1.43.59L10.3 9.45l-7.72 7.72c-.78.78-.78 2.05 0 2.83L4 21.41c.39.39.9.59 1.41.59.51 0 1.02-.2 1.41-.59l7.78-7.78 2.81-2.81c.8-.78.8-2.07 0-2.86zM5.41 20L4 18.59l7.72-7.72 1.47 1.35L5.41 20z\"/>\n",
       "  </svg>\n",
       "      </button>\n",
       "      \n",
       "  <style>\n",
       "    .colab-df-container {\n",
       "      display:flex;\n",
       "      flex-wrap:wrap;\n",
       "      gap: 12px;\n",
       "    }\n",
       "\n",
       "    .colab-df-convert {\n",
       "      background-color: #E8F0FE;\n",
       "      border: none;\n",
       "      border-radius: 50%;\n",
       "      cursor: pointer;\n",
       "      display: none;\n",
       "      fill: #1967D2;\n",
       "      height: 32px;\n",
       "      padding: 0 0 0 0;\n",
       "      width: 32px;\n",
       "    }\n",
       "\n",
       "    .colab-df-convert:hover {\n",
       "      background-color: #E2EBFA;\n",
       "      box-shadow: 0px 1px 2px rgba(60, 64, 67, 0.3), 0px 1px 3px 1px rgba(60, 64, 67, 0.15);\n",
       "      fill: #174EA6;\n",
       "    }\n",
       "\n",
       "    [theme=dark] .colab-df-convert {\n",
       "      background-color: #3B4455;\n",
       "      fill: #D2E3FC;\n",
       "    }\n",
       "\n",
       "    [theme=dark] .colab-df-convert:hover {\n",
       "      background-color: #434B5C;\n",
       "      box-shadow: 0px 1px 3px 1px rgba(0, 0, 0, 0.15);\n",
       "      filter: drop-shadow(0px 1px 2px rgba(0, 0, 0, 0.3));\n",
       "      fill: #FFFFFF;\n",
       "    }\n",
       "  </style>\n",
       "\n",
       "      <script>\n",
       "        const buttonEl =\n",
       "          document.querySelector('#df-6e32e041-a0cb-4941-8ac4-d64e6c4ede95 button.colab-df-convert');\n",
       "        buttonEl.style.display =\n",
       "          google.colab.kernel.accessAllowed ? 'block' : 'none';\n",
       "\n",
       "        async function convertToInteractive(key) {\n",
       "          const element = document.querySelector('#df-6e32e041-a0cb-4941-8ac4-d64e6c4ede95');\n",
       "          const dataTable =\n",
       "            await google.colab.kernel.invokeFunction('convertToInteractive',\n",
       "                                                     [key], {});\n",
       "          if (!dataTable) return;\n",
       "\n",
       "          const docLinkHtml = 'Like what you see? Visit the ' +\n",
       "            '<a target=\"_blank\" href=https://colab.research.google.com/notebooks/data_table.ipynb>data table notebook</a>'\n",
       "            + ' to learn more about interactive tables.';\n",
       "          element.innerHTML = '';\n",
       "          dataTable['output_type'] = 'display_data';\n",
       "          await google.colab.output.renderOutput(dataTable, element);\n",
       "          const docLink = document.createElement('div');\n",
       "          docLink.innerHTML = docLinkHtml;\n",
       "          element.appendChild(docLink);\n",
       "        }\n",
       "      </script>\n",
       "    </div>\n",
       "  </div>\n",
       "  "
      ],
      "text/plain": [
       "    Age  G6PD  EP_6M_AVT  AcPf_6M_AVT  EP_1AN_AVT  AcPf_1AN_AVT  EP_6M_APR  \\\n",
       "0  29.2  12.0          1            0           1             0        2.5   \n",
       "1  28.0   8.8          0            0           0             0        2.5   \n",
       "2   8.3   1.0          0            0           0             0        2.5   \n",
       "3  28.7  10.1          0            0           0             0        0.0   \n",
       "4  19.8   7.4          0            0           0             0        0.0   \n",
       "\n",
       "   AcPf_6M_APR  EP_1AN_APR  status  ...  Type_Hb_AC  Type_Hb_AF  Type_Hb_AS  \\\n",
       "0            0        6.00       1  ...           0           0           0   \n",
       "1            0        6.25       1  ...           0           0           0   \n",
       "2            0        6.25       1  ...           0           0           0   \n",
       "3            0        2.00       0  ...           0           0           0   \n",
       "4            0        0.00       1  ...           0           0           0   \n",
       "\n",
       "   Type_Hb_AS+  Gpe_ABO_A  Gpe_ABO_AB  Gpe_ABO_B  Gpe_ABO_O  Rhesus_+  \\\n",
       "0            0          0           0          0          1         1   \n",
       "1            0          0           0          0          1         1   \n",
       "2            0          0           0          1          0         1   \n",
       "3            0          1           0          0          0         1   \n",
       "4            0          1           0          0          0         1   \n",
       "\n",
       "   Rhesus_-  \n",
       "0         0  \n",
       "1         0  \n",
       "2         0  \n",
       "3         0  \n",
       "4         0  \n",
       "\n",
       "[5 rows x 24 columns]"
      ]
     },
     "execution_count": 126,
     "metadata": {},
     "output_type": "execute_result"
    }
   ],
   "source": [
    "df = pd.get_dummies(df, columns=[\"Sexe\",\"Type_Hb\",\"Gpe_ABO\",\"Rhesus\"])\n",
    "df.head()\n"
   ]
  },
  {
   "cell_type": "code",
   "execution_count": null,
   "metadata": {
    "colab": {
     "base_uri": "https://localhost:8080/"
    },
    "id": "fSvP9IA2B2Uq",
    "outputId": "77e6c68b-a809-4a26-837c-ca7bc48edcef"
   },
   "outputs": [
    {
     "data": {
      "text/plain": [
       "Age             float64\n",
       "G6PD            float64\n",
       "EP_6M_AVT         int64\n",
       "AcPf_6M_AVT       int64\n",
       "EP_1AN_AVT        int64\n",
       "AcPf_1AN_AVT      int64\n",
       "EP_6M_APR       float64\n",
       "AcPf_6M_APR       int64\n",
       "EP_1AN_APR      float64\n",
       "status            int64\n",
       "Sexe_Fem          uint8\n",
       "Sexe_Mas          uint8\n",
       "Type_Hb_AA        uint8\n",
       "Type_Hb_AA+       uint8\n",
       "Type_Hb_AC        uint8\n",
       "Type_Hb_AF        uint8\n",
       "Type_Hb_AS        uint8\n",
       "Type_Hb_AS+       uint8\n",
       "Gpe_ABO_A         uint8\n",
       "Gpe_ABO_AB        uint8\n",
       "Gpe_ABO_B         uint8\n",
       "Gpe_ABO_O         uint8\n",
       "Rhesus_+          uint8\n",
       "Rhesus_-          uint8\n",
       "dtype: object"
      ]
     },
     "execution_count": 127,
     "metadata": {},
     "output_type": "execute_result"
    }
   ],
   "source": [
    "df.dtypes"
   ]
  },
  {
   "cell_type": "markdown",
   "metadata": {
    "id": "GdgtabBtCHlZ"
   },
   "source": [
    "toute la base est transformé en type numérique "
   ]
  },
  {
   "cell_type": "code",
   "execution_count": null,
   "metadata": {
    "id": "_zBwuhj43lVx"
   },
   "outputs": [],
   "source": []
  },
  {
   "cell_type": "markdown",
   "metadata": {
    "id": "apCUCX6wu__V"
   },
   "source": [
    "## Normalisation des données"
   ]
  },
  {
   "cell_type": "code",
   "execution_count": null,
   "metadata": {
    "id": "_dZiJhbRu_G1"
   },
   "outputs": [],
   "source": [
    "# from sklearn.preprocessing import StandardScaler\n",
    "# scaler = StandardScaler()\n",
    "# # Fit the scaler to the DataFrame\n",
    "# df[['G6PD','EP_1AN_AVT','AcPf_1AN_AVT','EP_6M_APR','EP_1AN_APR']] = scaler.fit_transform(df[['G6PD','EP_1AN_AVT','AcPf_1AN_AVT','EP_6M_APR','EP_1AN_APR']])\n",
    "\n",
    "# df.boxplot()\n"
   ]
  },
  {
   "cell_type": "markdown",
   "metadata": {
    "id": "8xZvuHjKOw-G"
   },
   "source": [
    "## Création de jeux de donnée test et training"
   ]
  },
  {
   "cell_type": "code",
   "execution_count": null,
   "metadata": {
    "id": "Zt2N3lHA-H-V"
   },
   "outputs": [],
   "source": [
    "X = df.drop([\"status\"],axis=1)\n",
    "y = df[\"status\"]"
   ]
  },
  {
   "cell_type": "code",
   "execution_count": null,
   "metadata": {
    "colab": {
     "base_uri": "https://localhost:8080/"
    },
    "id": "-tPn8IGYAbB_",
    "outputId": "8fd41413-35b3-4e5e-8d4c-a2011ca85eca"
   },
   "outputs": [
    {
     "name": "stdout",
     "output_type": "stream",
     "text": [
      "[0.97923339]\n"
     ]
    }
   ],
   "source": [
    "from sklearn.decomposition import PCA\n",
    "pca = PCA(n_components=1)\n",
    "x = pca.fit(X).transform(X)\n",
    "print(pca.explained_variance_ratio_)\n",
    "X_train =  pd.DataFrame(d)"
   ]
  },
  {
   "cell_type": "code",
   "execution_count": null,
   "metadata": {
    "id": "tUYYP29cPeRU"
   },
   "outputs": [],
   "source": [
    "X_train,X_test,Y_train,Y_test = train_test_split(X,y, random_state=63,test_size=0.2) "
   ]
  },
  {
   "cell_type": "markdown",
   "metadata": {
    "id": "zW4q8DlZTBGv"
   },
   "source": [
    "Selection de variables"
   ]
  },
  {
   "cell_type": "code",
   "execution_count": null,
   "metadata": {
    "colab": {
     "base_uri": "https://localhost:8080/"
    },
    "id": "AHOIQ90x6B5K",
    "outputId": "b5071644-93f7-45db-ec21-6cbfd7798366"
   },
   "outputs": [
    {
     "name": "stdout",
     "output_type": "stream",
     "text": [
      "erreur en test : 15.77 %\n"
     ]
    }
   ],
   "source": [
    "from sklearn.ensemble import RandomForestClassifier\n",
    "clf = RandomForestClassifier(max_depth=2, random_state=0).fit(X_train, Y_train)\n",
    "# erreur en test \n",
    "err_val = 1 - accuracy_score(Y_test, clf.predict(X_test))\n",
    "print(\"erreur en test : {} %\".format(round(100*err_val,2)))"
   ]
  },
  {
   "cell_type": "code",
   "execution_count": null,
   "metadata": {
    "colab": {
     "base_uri": "https://localhost:8080/"
    },
    "id": "8lAjLSSg6M8P",
    "outputId": "aa2840c9-663d-4b45-8075-5cb7b6c46fb8"
   },
   "outputs": [
    {
     "name": "stdout",
     "output_type": "stream",
     "text": [
      "Index(['Age', 'G6PD', 'EP_6M_AVT', 'AcPf_6M_AVT', 'EP_1AN_AVT', 'AcPf_1AN_AVT',\n",
      "       'EP_6M_APR', 'AcPf_6M_APR', 'EP_1AN_APR', 'Sexe_Fem', 'Sexe_Mas',\n",
      "       'Type_Hb_AA', 'Type_Hb_AA+', 'Type_Hb_AC', 'Type_Hb_AF', 'Type_Hb_AS',\n",
      "       'Type_Hb_AS+', 'Gpe_ABO_A', 'Gpe_ABO_AB', 'Gpe_ABO_B', 'Gpe_ABO_O',\n",
      "       'Rhesus_+', 'Rhesus_-'],\n",
      "      dtype='object')\n",
      "[0.30257979 0.15236199 0.06341431 0.         0.03899847 0.\n",
      " 0.08452292 0.         0.11115321 0.02663733 0.0244263  0.02068792\n",
      " 0.07261947 0.00141779 0.0003204  0.00036761 0.01953962 0.00370232\n",
      " 0.0028449  0.01956372 0.02429442 0.0123331  0.0182144 ]\n"
     ]
    }
   ],
   "source": [
    "print(X_train.columns)\n",
    "print(clf.feature_importances_)"
   ]
  },
  {
   "cell_type": "code",
   "execution_count": null,
   "metadata": {
    "colab": {
     "base_uri": "https://localhost:8080/"
    },
    "id": "ehgrr71YqGBQ",
    "outputId": "2ed508f8-2116-4ea1-a6d6-6fcac4b1c6ca"
   },
   "outputs": [
    {
     "data": {
      "text/plain": [
       "Age             0.302580\n",
       "G6PD            0.152362\n",
       "EP_1AN_APR      0.111153\n",
       "EP_6M_APR       0.084523\n",
       "Type_Hb_AA+     0.072619\n",
       "EP_6M_AVT       0.063414\n",
       "EP_1AN_AVT      0.038998\n",
       "Sexe_Fem        0.026637\n",
       "Sexe_Mas        0.024426\n",
       "Gpe_ABO_O       0.024294\n",
       "Type_Hb_AA      0.020688\n",
       "Gpe_ABO_B       0.019564\n",
       "Type_Hb_AS+     0.019540\n",
       "Rhesus_-        0.018214\n",
       "Rhesus_+        0.012333\n",
       "Gpe_ABO_A       0.003702\n",
       "Gpe_ABO_AB      0.002845\n",
       "Type_Hb_AC      0.001418\n",
       "Type_Hb_AS      0.000368\n",
       "Type_Hb_AF      0.000320\n",
       "AcPf_6M_APR     0.000000\n",
       "AcPf_1AN_AVT    0.000000\n",
       "AcPf_6M_AVT     0.000000\n",
       "dtype: float64"
      ]
     },
     "execution_count": 145,
     "metadata": {},
     "output_type": "execute_result"
    }
   ],
   "source": [
    "vars_imp = pd.Series(clf.feature_importances_, index = X_train.columns).sort_values(ascending=False)\n",
    "vars_imp"
   ]
  },
  {
   "cell_type": "code",
   "execution_count": null,
   "metadata": {
    "colab": {
     "base_uri": "https://localhost:8080/",
     "height": 265
    },
    "id": "BB5XXtmnp5pE",
    "outputId": "6397f488-619f-4c13-b697-5124ebba9949"
   },
   "outputs": [
    {
     "data": {
      "image/png": "[encoded data removed]",
      "text/plain": [
       "<Figure size 432x288 with 1 Axes>"
      ]
     },
     "metadata": {
      "needs_background": "light"
     },
     "output_type": "display_data"
    }
   ],
   "source": [
    "sns.barplot(x=vars_imp, y=vars_imp.index)\n",
    "plt.show()"
   ]
  },
  {
   "cell_type": "code",
   "execution_count": null,
   "metadata": {
    "id": "rvR5hEhQqy-R"
   },
   "outputs": [],
   "source": [
    "## suppression de variable\n",
    "X_train = X_train[[\"Age\",\"G6PD\"]]\n",
    "X_test = X_test[[\"Age\",\"G6PD\"]]\n"
   ]
  },
  {
   "cell_type": "code",
   "execution_count": null,
   "metadata": {
    "colab": {
     "base_uri": "https://localhost:8080/"
    },
    "id": "81vq1KS8QTwt",
    "outputId": "269e82e8-c546-4901-8e85-02ce35416d06"
   },
   "outputs": [
    {
     "name": "stdout",
     "output_type": "stream",
     "text": [
      "0.7879425734024179\n",
      "SVC(C=0.1, kernel='linear', random_state=100)\n"
     ]
    }
   ],
   "source": [
    "# SVM \n",
    "\n",
    "from sklearn.svm import SVC\n",
    "\n",
    "sv = SVC(random_state = 100)\n",
    "\n",
    "sv_hyp = {'C':[0.1, 1, 10], 'kernel':['linear', 'rbf']}\n",
    "\n",
    "svm_cv = GridSearchCV(sv, sv_hyp, cv = 5)\n",
    "\n",
    "svm_cv.fit(X_train, Y_train)\n",
    "\n",
    "print(svm_cv.best_score_)\n",
    "\n",
    "print(svm_cv.best_estimator_)"
   ]
  },
  {
   "cell_type": "code",
   "execution_count": null,
   "metadata": {
    "colab": {
     "base_uri": "https://localhost:8080/"
    },
    "id": "yD5jUL3psXOG",
    "outputId": "da4d8c02-f252-484d-8590-ecf21d0b413f"
   },
   "outputs": [
    {
     "name": "stdout",
     "output_type": "stream",
     "text": [
      "0.7879317789291882\n",
      "LogisticRegression(C=0.001, max_iter=500, random_state=100)\n",
      "erreur en test : 15.35 %\n"
     ]
    }
   ],
   "source": [
    "# Régression logistique\n",
    "\n",
    "from sklearn.linear_model import LogisticRegression\n",
    "\n",
    "from sklearn.model_selection import GridSearchCV\n",
    "\n",
    "lr = LogisticRegression(random_state=100, max_iter=500)\n",
    "\n",
    "lr_hyp = {'C':[0.001, 0.01, 0.1, 1, 10, 100]}\n",
    "\n",
    "lr_cv = GridSearchCV(lr, lr_hyp, cv = 5)\n",
    "\n",
    "lr_cv.fit(X_train, Y_train)\n",
    "\n",
    "print(lr_cv.best_score_)\n",
    "print(lr_cv.best_estimator_)\n",
    "\n"
   ]
  },
  {
   "cell_type": "code",
   "execution_count": null,
   "metadata": {
    "colab": {
     "base_uri": "https://localhost:8080/"
    },
    "id": "m9Drvd2fvQYE",
    "outputId": "9fd3aa85-5fe6-4e7c-b1bd-f5899444d5e3"
   },
   "outputs": [
    {
     "name": "stdout",
     "output_type": "stream",
     "text": [
      "0.7743955094991365\n",
      "BaggingClassifier(n_estimators=200, random_state=111)\n"
     ]
    }
   ],
   "source": [
    "# Bagging Classifier\n",
    "\n",
    "from sklearn.ensemble import BaggingClassifier\n",
    "\n",
    "bc = BaggingClassifier(random_state=111)\n",
    "\n",
    "bc_hyp = {'n_estimators':[5, 10, 20, 50, 100, 200]}\n",
    "\n",
    "bc_cv = GridSearchCV(bc, bc_hyp, cv = 5)\n",
    "\n",
    "bc_cv.fit(X_train, Y_train)\n",
    "\n",
    "print(bc_cv.best_score_)\n",
    "\n",
    "print(bc_cv.best_estimator_)"
   ]
  },
  {
   "cell_type": "code",
   "execution_count": null,
   "metadata": {
    "colab": {
     "base_uri": "https://localhost:8080/"
    },
    "id": "rVHgaL4CUuu5",
    "outputId": "6065b0fd-371d-4d66-fa66-fc391c905c9a"
   },
   "outputs": [
    {
     "name": "stdout",
     "output_type": "stream",
     "text": [
      "erreur en test : 23.65 %\n"
     ]
    }
   ],
   "source": [
    "from sklearn.tree import DecisionTreeClassifier\n",
    "clf = DecisionTreeClassifier(random_state=100).fit(X_train, Y_train)\n",
    "\n",
    "# erreur en test \n",
    "err_val = 1 - accuracy_score(Y_test, clf.predict(X_test))\n",
    "print(\"erreur en test : {} %\".format(round(100*err_val,2)))"
   ]
  },
  {
   "cell_type": "code",
   "execution_count": null,
   "metadata": {
    "colab": {
     "base_uri": "https://localhost:8080/"
    },
    "id": "X5hzpcCjXyN0",
    "outputId": "f2903737-1cd1-4e89-f860-17727de396d2"
   },
   "outputs": [
    {
     "name": "stdout",
     "output_type": "stream",
     "text": [
      "erreur en test : 15.77 %\n"
     ]
    }
   ],
   "source": [
    "from sklearn.discriminant_analysis import LinearDiscriminantAnalysis\n",
    "\n",
    "clf = LinearDiscriminantAnalysis(solver='svd', store_covariance = True).fit(X_train, Y_train)\n",
    "\n",
    "# erreur en test \n",
    "err_val = 1 - accuracy_score(Y_test, clf.predict(X_test))\n",
    "print(\"erreur en test : {} %\".format(round(100*err_val,2)))"
   ]
  },
  {
   "cell_type": "code",
   "execution_count": null,
   "metadata": {
    "colab": {
     "base_uri": "https://localhost:8080/"
    },
    "id": "n7Xny63N1eAs",
    "outputId": "564d53e6-1940-453f-cac8-079d1737a5d4"
   },
   "outputs": [
    {
     "name": "stdout",
     "output_type": "stream",
     "text": [
      "0.806611614853195\n",
      "RandomForestClassifier(max_depth=5, random_state=100)\n",
      "erreur en test : 15.77 %\n"
     ]
    }
   ],
   "source": [
    "# Forêt aléatoire\n",
    "\n",
    "RF = RandomForestClassifier(random_state=100)\n",
    "\n",
    "RF_hyp = {'n_estimators':[5, 10, 20, 50, 100, 200],\n",
    "          'max_depth':[None, 2, 5, 10, 15, 20]}\n",
    "\n",
    "RF_cv = GridSearchCV(RF, RF_hyp, cv = 5)\n",
    "\n",
    "RF_cv.fit(X_train, Y_train)\n",
    "\n",
    "print(RF_cv.best_score_)\n",
    "\n",
    "print(RF_cv.best_estimator_)\n",
    "\n",
    "# erreur en test \n",
    "err_val = 1 - accuracy_score(Y_test, RF_cv.predict(X_test))\n",
    "print(\"erreur en test : {} %\".format(round(100*err_val,2)))"
   ]
  },
  {
   "cell_type": "code",
   "execution_count": null,
   "metadata": {
    "colab": {
     "base_uri": "https://localhost:8080/"
    },
    "id": "U2Jyg5NbYQHg",
    "outputId": "f90b81b1-c588-4737-8bee-b15139323ee4"
   },
   "outputs": [
    {
     "name": "stdout",
     "output_type": "stream",
     "text": [
      "[1]\n"
     ]
    },
    {
     "name": "stderr",
     "output_type": "stream",
     "text": [
      "/usr/local/lib/python3.8/dist-packages/sklearn/base.py:450: UserWarning: X does not have valid feature names, but RandomForestClassifier was fitted with feature names\n",
      "  warnings.warn(\n"
     ]
    }
   ],
   "source": [
    "print(clf.predict([X_test.iloc[3]]))"
   ]
  },
  {
   "cell_type": "code",
   "execution_count": null,
   "metadata": {
    "id": "iPXuu6_V19J6"
   },
   "outputs": [],
   "source": [
    "# Evaluation des performances et choix du modèle\n",
    "\n",
    "def model_evaluation(model, features, labels):\n",
    "  pred = model.predict(features)\n",
    "  score = accuracy_score(Y_test, pred)\n",
    "  print('Score global du modèle :', round(score, 3))"
   ]
  },
  {
   "cell_type": "code",
   "execution_count": null,
   "metadata": {
    "colab": {
     "base_uri": "https://localhost:8080/"
    },
    "id": "cu4R1K8k2Ue1",
    "outputId": "5021302f-9146-4960-8179-819ded58d95b"
   },
   "outputs": [
    {
     "name": "stdout",
     "output_type": "stream",
     "text": [
      "Modèle LogisticRegression(C=0.001, max_iter=500, random_state=100)\n",
      "Score global du modèle : 0.846\n",
      "------------------------------------------------------------------------------------------\n",
      "Modèle RandomForestClassifier(max_depth=5, random_state=100)\n",
      "Score global du modèle : 0.842\n",
      "------------------------------------------------------------------------------------------\n",
      "Modèle SVC(C=0.1, kernel='linear', random_state=100)\n",
      "Score global du modèle : 0.842\n",
      "------------------------------------------------------------------------------------------\n",
      "Modèle BaggingClassifier(n_estimators=200, random_state=111)\n",
      "Score global du modèle : 0.772\n",
      "------------------------------------------------------------------------------------------\n"
     ]
    }
   ],
   "source": [
    "models = [lr_cv.best_estimator_, RF_cv.best_estimator_, \n",
    "          svm_cv.best_estimator_, bc_cv.best_estimator_]\n",
    "\n",
    "for model in models:\n",
    "  print('Modèle ' + str(model))\n",
    "  model_evaluation(model, X_test, Y_test)\n",
    "  print('-'*90)"
   ]
  },
  {
   "cell_type": "code",
   "execution_count": null,
   "metadata": {
    "colab": {
     "base_uri": "https://localhost:8080/"
    },
    "id": "7KZ3Qh7tvxgM",
    "outputId": "42374dfd-13eb-4747-988c-9b0d338687e6"
   },
   "outputs": [
    {
     "data": {
      "text/plain": [
       "0.8464730290456431"
      ]
     },
     "execution_count": 175,
     "metadata": {},
     "output_type": "execute_result"
    }
   ],
   "source": [
    "# Performance du meilleur modèle sur les données de test\n",
    "\n",
    "accuracy_score(Y_test, lr_cv.best_estimator_.predict(X_test))"
   ]
  },
  {
   "cell_type": "code",
   "execution_count": null,
   "metadata": {
    "id": "vAo214e6wbJF"
   },
   "outputs": [],
   "source": []
  }
 ],
 "metadata": {
  "colab": {
   "provenance": []
  },
  "kernelspec": {
   "display_name": "Python 3",
   "language": "python",
   "name": "python3"
  },
  "language_info": {
   "codemirror_mode": {
    "name": "ipython",
    "version": 3
   },
   "file_extension": ".py",
   "mimetype": "text/x-python",
   "name": "python",
   "nbconvert_exporter": "python",
   "pygments_lexer": "ipython3",
   "version": "3.8.3"
  }
 },
 "nbformat": 4,
 "nbformat_minor": 1
}
